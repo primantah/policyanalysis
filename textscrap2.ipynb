{
 "cells": [
  {
   "cell_type": "code",
   "execution_count": 1,
   "id": "57abda82-c1bf-491d-a0ff-df7c711100eb",
   "metadata": {},
   "outputs": [
    {
     "name": "stdout",
     "output_type": "stream",
     "text": [
      " * Serving Flask app '__main__'\n",
      " * Debug mode: on\n"
     ]
    },
    {
     "name": "stderr",
     "output_type": "stream",
     "text": [
      "WARNING: This is a development server. Do not use it in a production deployment. Use a production WSGI server instead.\n",
      " * Running on http://127.0.0.1:5000\n",
      "Press CTRL+C to quit\n",
      " * Restarting with stat\n"
     ]
    },
    {
     "ename": "SystemExit",
     "evalue": "1",
     "output_type": "error",
     "traceback": [
      "An exception has occurred, use %tb to see the full traceback.\n",
      "\u001b[1;31mSystemExit\u001b[0m\u001b[1;31m:\u001b[0m 1\n"
     ]
    },
    {
     "name": "stderr",
     "output_type": "stream",
     "text": [
      "C:\\Users\\prima\\miniconda3\\Lib\\site-packages\\IPython\\core\\interactiveshell.py:3585: UserWarning: To exit: use 'exit', 'quit', or Ctrl-D.\n",
      "  warn(\"To exit: use 'exit', 'quit', or Ctrl-D.\", stacklevel=1)\n"
     ]
    }
   ],
   "source": [
    "from flask import Flask, request, render_template, redirect, url_for\n",
    "import os\n",
    "\n",
    "app = Flask(__name__)\n",
    "app.config['UPLOAD_FOLDER'] = 'uploads/'\n",
    "\n",
    "# Ensure the upload folder exists\n",
    "if not os.path.exists(app.config['UPLOAD_FOLDER']):\n",
    "    os.makedirs(app.config['UPLOAD_FOLDER'])\n",
    "\n",
    "def read_text_from_file(file_path):\n",
    "    try:\n",
    "        with open(file_path, 'r', encoding='utf-8') as file:\n",
    "            txt = file.read().strip()\n",
    "        return txt\n",
    "    except FileNotFoundError:\n",
    "        return \"\"\n",
    "    except UnicodeDecodeError:\n",
    "        return \"\"\n",
    "\n",
    "def check_words_in_text(txt, words_input):\n",
    "    # Prepare the list of words from user input\n",
    "    words_list = [word.strip().lower() for word in words_input.split(\",\")]\n",
    "    \n",
    "    # Convert the text to lowercase\n",
    "    txt_lower = txt.lower()\n",
    "    \n",
    "    # Check if each word exists in the text\n",
    "    results = {word: (\"exists\" if word in txt_lower else \"does not exist\") for word in words_list}\n",
    "    \n",
    "    # Sort results\n",
    "    sorted_results = sorted(results.items(), key=lambda item: item[1], reverse=True)\n",
    "    return sorted_results\n",
    "\n",
    "@app.route('/', methods=['GET', 'POST'])\n",
    "def upload_file():\n",
    "    if request.method == 'POST':\n",
    "        # Check if the post request has the file part\n",
    "        if 'file' not in request.files:\n",
    "            return redirect(request.url)\n",
    "        \n",
    "        file = request.files['file']\n",
    "        keywords = request.form['keywords']\n",
    "        \n",
    "        if file.filename == '':\n",
    "            return redirect(request.url)\n",
    "        \n",
    "        if file:\n",
    "            # Save the uploaded file to the server\n",
    "            file_path = os.path.join(app.config['UPLOAD_FOLDER'], file.filename)\n",
    "            file.save(file_path)\n",
    "            \n",
    "            # Read the content of the file\n",
    "            txt_content = read_text_from_file(file_path)\n",
    "            \n",
    "            if txt_content:\n",
    "                # Perform word check\n",
    "                results = check_words_in_text(txt_content, keywords)\n",
    "                return render_template('results.html', results=results)\n",
    "    \n",
    "    return render_template('upload.html')\n",
    "\n",
    "# Run the app\n",
    "if __name__ == '__main__':\n",
    "    app.run(debug=True)\n"
   ]
  },
  {
   "cell_type": "code",
   "execution_count": null,
   "id": "914e0131-ec64-4b91-a01b-b30708b32f0d",
   "metadata": {},
   "outputs": [],
   "source": []
  }
 ],
 "metadata": {
  "kernelspec": {
   "display_name": "Python 3 (ipykernel)",
   "language": "python",
   "name": "python3"
  },
  "language_info": {
   "codemirror_mode": {
    "name": "ipython",
    "version": 3
   },
   "file_extension": ".py",
   "mimetype": "text/x-python",
   "name": "python",
   "nbconvert_exporter": "python",
   "pygments_lexer": "ipython3",
   "version": "3.12.3"
  }
 },
 "nbformat": 4,
 "nbformat_minor": 5
}
